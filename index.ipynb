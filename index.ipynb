{
  "cells": [
    {
      "cell_type": "raw",
      "metadata": {},
      "source": [
        "---\n",
        "title: \"\"\n",
        "image: img/main_img.jpg\n",
        "page-layout: full\n",
        "toc: false\n",
        "# about:\n",
        "#   template: trestles\n",
        "#   image-shape: round\n",
        "#   image-width: 15em\n",
        "  # links:\n",
        "  #   - icon: linkedin\n",
        "  #     href: https://www.linkedin.com/in/alisonrane/\n",
        "  #   - icon: github\n",
        "  #     href: https://github.com/alisonrane\n",
        "  #   - icon: envelope\n",
        "  #     href: mailto:hello@alisonrane.com\n",
        "    # - icon: salesforce\n",
        "    #   text: Trailhead\n",
        "    #   href: https://trailblazer.me/id/alisonrane\n",
        "---"
      ],
      "id": "c1f707c7"
    },
    {
      "cell_type": "markdown",
      "metadata": {},
      "source": [
        "::: {.column-page-inset}\n",
        "::: {.column-page-inset-left}\n",
        "## Hi!\n",
        "\n",
        "I’m Alison, and I am a data strategist and analyst for mission-driven organizations. I’m an optimizer and system-builder by nature, addressing organizational problems with data. \n",
        "\n",
        "My experience includes data analysis projects for education and health science nonprofits; designing, building, and managing internal databases and applications; leading a CRM upgrade and implementation of new business systems; building BI dashboards; and management of CRM and IT services for a professional services firm.\n",
        ":::\n",
        "\n",
        "<div class=\"column-margin column-container\">\n",
        "![](img/main_img.jpg){.rounded-circle}\n",
        "\n",
        "<div class=\"d-flex justify-content-center\">\n",
        "\n",
        "```{html}\n",
        "<a class=\"icon\", href=\"https://github.com/alisonrane\">\n",
        "    <i class=\"bi bi-github\" role='img' aria-label='Github'></i>\n",
        "</a>\n",
        "\n",
        "<a class=\"btn-lg\", href=\"https://www.linkedin.com/in/alisonrane/\" target=\"_blank\" rel=\"noopener noreferrer\">\n",
        "    <i class=\"bi bi-linkedin\" role='img' aria-label='LinkedIn'></i>\n",
        "</a>\n",
        "\n",
        "```\n",
        "\n",
        "</div>\n",
        "</div>\n",
        ":::\n",
        "\n",
        "\n",
        "\n",
        ":::{.experience}\n",
        "## Experience\n",
        ":::"
      ],
      "id": "a0c0d31d"
    }
  ],
  "metadata": {
    "kernelspec": {
      "display_name": "Python 3",
      "language": "python",
      "name": "python3"
    }
  },
  "nbformat": 4,
  "nbformat_minor": 5
}